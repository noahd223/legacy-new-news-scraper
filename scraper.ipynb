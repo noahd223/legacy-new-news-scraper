{
 "cells": [
  {
   "cell_type": "code",
   "execution_count": 1,
   "id": "0d34df5b",
   "metadata": {},
   "outputs": [],
   "source": [
    "import os\n",
    "import pandas as pd\n",
    "import requests as re\n",
    "from bs4 import BeautifulSoup\n",
    "from datetime import datetime, timezone"
   ]
  },
  {
   "cell_type": "code",
   "execution_count": 2,
   "id": "9c691b3a",
   "metadata": {},
   "outputs": [
    {
     "name": "stdout",
     "output_type": "stream",
     "text": [
      "Scraping section: https://thetab.com/news\n",
      "Scraping section: https://thetab.com/entertainment\n",
      "Scraping section: https://thetab.com/trends\n",
      "Scraping section: https://thetab.com/gaming\n",
      "Scraping section: https://thetab.com/politics\n",
      "Scraping section: https://thetab.com/opinion\n",
      "Scraping section: https://thetab.com/guides\n"
     ]
    }
   ],
   "source": [
    "SOURCE = \"The Tab\"\n",
    "BASE_URL = \"https://thetab.com\"\n",
    "SECTIONS = [\"news\", \"entertainment\", \"trends\", \"gaming\", \"politics\", \"opinion\", \"guides\"]\n",
    "CSV_PATH = \"the_tab_articles.csv\"\n",
    "\n",
    "# Load previous data if exists\n",
    "if os.path.exists(CSV_PATH):\n",
    "    old_df = pd.read_csv(CSV_PATH)\n",
    "    seen_urls = set(old_df['url'].tolist())\n",
    "else:\n",
    "    old_df = pd.DataFrame()\n",
    "    seen_urls = set()\n",
    "\n",
    "new_articles = []\n",
    "\n",
    "for section in SECTIONS:\n",
    "    section_url = f\"{BASE_URL}/{section}\"\n",
    "    try:\n",
    "        print(f\"Scraping section: {section_url}\")\n",
    "        res = re.get(section_url, timeout=10)\n",
    "        soup = BeautifulSoup(res.content, \"html.parser\")\n",
    "\n",
    "        links = soup.select(\"a[href*='/202']\")\n",
    "\n",
    "        for link in links:\n",
    "            article_url = link[\"href\"]\n",
    "            if not article_url.startswith(\"http\"):\n",
    "                article_url = BASE_URL + article_url\n",
    "\n",
    "            if article_url in seen_urls:\n",
    "                continue\n",
    "\n",
    "            try:\n",
    "                art_res = re.get(article_url, timeout=10)\n",
    "                art_soup = BeautifulSoup(art_res.content, \"html.parser\")\n",
    "\n",
    "                headline_tag = art_soup.find(\"h1\")\n",
    "                headline = headline_tag.get_text(strip=True) if headline_tag else None\n",
    "                if not headline:\n",
    "                    continue\n",
    "\n",
    "                paragraphs = art_soup.find_all(\"p\")\n",
    "                text = \" \".join(p.get_text(strip=True) for p in paragraphs)\n",
    "                word_count = len(text.split())\n",
    "\n",
    "                meta_date = art_soup.find(\"meta\", {\"property\": \"article:published_time\"})\n",
    "                pub_date = meta_date[\"content\"] if meta_date else None\n",
    "\n",
    "                new_articles.append({\n",
    "                    \"source\": SOURCE,\n",
    "                    \"url\": article_url,\n",
    "                    \"section\": section,\n",
    "                    \"pub_date\": pub_date,\n",
    "                    \"headline\": headline,\n",
    "                    \"headline_len\": len(headline.split()),\n",
    "                    \"word_count\": word_count,\n",
    "                    \"scrape_date\": datetime.now(timezone.utc).isoformat()\n",
    "                })\n",
    "\n",
    "            except Exception as e:\n",
    "                print(f\"Error parsing article: {article_url} | {e}\")\n",
    "\n",
    "    except Exception as e:\n",
    "        print(f\"Failed to fetch section {section_url} | {e}\")\n",
    "\n",
    "\n",
    "new_df = pd.DataFrame(new_articles)\n",
    "combined_df = pd.concat([old_df, new_df], ignore_index=True)\n"
   ]
  },
  {
   "cell_type": "code",
   "execution_count": 3,
   "id": "fa167e0e",
   "metadata": {},
   "outputs": [
    {
     "name": "stdout",
     "output_type": "stream",
     "text": [
      " Added 112 new articles. Total saved: 112.\n"
     ]
    }
   ],
   "source": [
    "combined_df.to_csv(CSV_PATH, index=False)\n",
    "print(f\" Added {len(new_df)} new articles. Total saved: {len(combined_df)}.\")\n",
    "\n",
    "\n"
   ]
  }
 ],
 "metadata": {
  "kernelspec": {
   "display_name": "base",
   "language": "python",
   "name": "python3"
  },
  "language_info": {
   "codemirror_mode": {
    "name": "ipython",
    "version": 3
   },
   "file_extension": ".py",
   "mimetype": "text/x-python",
   "name": "python",
   "nbconvert_exporter": "python",
   "pygments_lexer": "ipython3",
   "version": "3.12.4"
  }
 },
 "nbformat": 4,
 "nbformat_minor": 5
}
